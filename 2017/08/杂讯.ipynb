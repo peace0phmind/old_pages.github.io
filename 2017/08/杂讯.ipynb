{
 "cells": [
  {
   "cell_type": "markdown",
   "metadata": {},
   "source": [
    "## Jetson 安装ros\n",
    "* https://github.com/jetsonhacks\n",
    "* http://www.jetsonhacks.com/2016/10/12/robot-operating-system-ros-on-nvidia-jetson-tx1/\n",
    "* http://www.jetsonhacks.com/2017/03/27/robot-operating-system-ros-nvidia-jetson-tx2/\n",
    "* http://www.jetsonhacks.com/\n"
   ]
  },
  {
   "cell_type": "markdown",
   "metadata": {},
   "source": [
    "## 机器人商店\n",
    "* http://www.robotshop.com/"
   ]
  },
  {
   "cell_type": "markdown",
   "metadata": {},
   "source": [
    "## 可拼装的机器人\n",
    "* http://www.turtlebot.com/"
   ]
  },
  {
   "cell_type": "markdown",
   "metadata": {},
   "source": [
    "## 计算机辅助设计软件(CAD)\n",
    "* [SolidWorks](http://www.solidworks.com/default.htm)\n",
    "* [AutoCAD](http://www.autodesk.com/products/autocad/overview)\n",
    "* [Maya](http://www.autodesk.com/products/maya/overview)\n",
    "* [Inventor](http://www.autodesk.com/products/inventor/overview)\n",
    "* [Google SketchUp](http://www.sketchup.com)\n",
    "* [Blender](http://www.blender.org/download)\n",
    "* [LibreCAD](http://librecad.org/cms/home.html)\n",
    "* [meshlab](http://www.meshlab.net)"
   ]
  },
  {
   "cell_type": "markdown",
   "metadata": {},
   "source": [
    "## LibreCAD文档\n",
    "* LibreCAD工具栏的详细说明可以参考以下链接：http://wiki.librecad.org/index.php/LibreCAD_users_Manual。\n",
    "* 命令框：只能通过命令来绘制图形。\n",
    "  我们不用任何工具栏上的按钮也能绘制出图形。命令框的详细使用说明可以参考以下链接：\n",
    "  http://wiki.librecad.org/index.php/A_short_manual_for_use_from_the_command_line\n",
    "* 图层列表：当前绘制窗口的图层面板。计算机辅助绘图的一个基本原理就是利用图层面板的概念来进行绘制。关于图层面板的详细说明可以参考以下链接：\n",
    "  http://wiki.librecad.org/index.php/Layers\n",
    "* 块：这是一组实体，可以被设定成不同的位置、大小和旋转角度，并将其多次嵌入到同一个图形中。关于块的详细说明可以参考以下链接：\n",
    "  http://wiki.librecad.org/index.php/Blocks\n",
    "* 绝对零点：这是绘制图形的原点坐标（0，0）。\n",
    "  现在，通过设置绘图单位开始草图设计。绘图的单位设置为cm。打开LibreCAD软件，找到Edit|Application Preference选项，将Unit单位设置为Centimeters（厘米），如图2-5的截图所示。\n"
   ]
  },
  {
   "cell_type": "markdown",
   "metadata": {},
   "source": [
    "## Blender文档\n",
    "* http://www.blender.org/support/tutorials/\n",
    "* https://docs.blender.org/api/blender_python_api_2_78c_release/\n"
   ]
  },
  {
   "cell_type": "markdown",
   "metadata": {},
   "source": [
    "## 各种脚轮\n",
    "https://www.pololu.com/category/45/pololu-ball-casters"
   ]
  },
  {
   "cell_type": "markdown",
   "metadata": {},
   "source": []
  }
 ],
 "metadata": {
  "kernelspec": {
   "display_name": "Python 3",
   "language": "python",
   "name": "python3"
  },
  "language_info": {
   "codemirror_mode": {
    "name": "ipython",
    "version": 3
   },
   "file_extension": ".py",
   "mimetype": "text/x-python",
   "name": "python",
   "nbconvert_exporter": "python",
   "pygments_lexer": "ipython3",
   "version": "3.6.1"
  },
  "toc": {
   "colors": {
    "hover_highlight": "#DAA520",
    "navigate_num": "#000000",
    "navigate_text": "#333333",
    "running_highlight": "#FF0000",
    "selected_highlight": "#FFD700",
    "sidebar_border": "#EEEEEE",
    "wrapper_background": "#FFFFFF"
   },
   "moveMenuLeft": true,
   "nav_menu": {
    "height": "138px",
    "width": "252px"
   },
   "navigate_menu": true,
   "number_sections": true,
   "sideBar": true,
   "threshold": 4,
   "toc_cell": false,
   "toc_section_display": "block",
   "toc_window_display": true,
   "widenNotebook": false
  }
 },
 "nbformat": 4,
 "nbformat_minor": 2
}
