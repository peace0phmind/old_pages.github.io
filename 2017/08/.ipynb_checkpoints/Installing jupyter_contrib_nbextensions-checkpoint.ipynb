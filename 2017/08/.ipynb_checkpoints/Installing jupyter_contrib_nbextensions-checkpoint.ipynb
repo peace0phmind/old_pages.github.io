{
 "cells": [
  {
   "cell_type": "markdown",
   "metadata": {},
   "source": [
    "## Install from Conda"
   ]
  },
  {
   "cell_type": "code",
   "execution_count": 1,
   "metadata": {},
   "outputs": [
    {
     "name": "stdout",
     "output_type": "stream",
     "text": [
      "Set hosts to: local\tSet gather_facts to: no\t\n",
      "Use hosts: local\tUse gather_facts: no\t\n"
     ]
    },
    {
     "name": "stderr",
     "output_type": "stream",
     "text": [
      "error: 2"
     ]
    }
   ],
   "source": [
    "# hosts=local gather_facts=no\n",
    "- shell: |\n",
    "    . ~/.zshrc\n",
    "    conda install -y -c conda-forge jupyter_contrib_nbextensions\n",
    "    jupyter contrib nbextension install --sys-prefix\n",
    "  args:\n",
    "    executable: /bin/zsh"
   ]
  },
  {
   "cell_type": "code",
   "execution_count": null,
   "metadata": {
    "collapsed": true
   },
   "outputs": [],
   "source": []
  }
 ],
 "metadata": {
  "kernelspec": {
   "display_name": "Ansible",
   "language": "ansible",
   "name": "ansible"
  },
  "language_info": {
   "codemirror_mode": "yaml",
   "file_extension": ".yml",
   "mimetype": "text/vnd.yaml",
   "name": "ansible"
  }
 },
 "nbformat": 4,
 "nbformat_minor": 2
}
