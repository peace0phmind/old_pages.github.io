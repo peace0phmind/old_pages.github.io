{
 "cells": [
  {
   "cell_type": "markdown",
   "metadata": {},
   "source": [
    "## Dependencies"
   ]
  },
  {
   "cell_type": "code",
   "execution_count": 1,
   "metadata": {},
   "outputs": [
    {
     "name": "stdout",
     "output_type": "stream",
     "text": [
      "Set hosts to: tf\tSet gather_facts to: no\t\n",
      "Use hosts: tf\tUse gather_facts: no\t\n",
      "TASK [192.168.10.238: TASK: apt] \n",
      "changed: False\n",
      "\n",
      "ok"
     ]
    }
   ],
   "source": [
    "# hosts=tf gather_facts=no\n",
    "- apt: name=protobuf-compiler\n",
    "  become: true"
   ]
  },
  {
   "cell_type": "markdown",
   "metadata": {},
   "source": [
    "## Protobuf Compilation"
   ]
  },
  {
   "cell_type": "code",
   "execution_count": 2,
   "metadata": {},
   "outputs": [
    {
     "name": "stdout",
     "output_type": "stream",
     "text": [
      "Use hosts: tf\tUse gather_facts: no\t\n",
      "TASK [192.168.10.238: TASK: command] \n",
      "stdout:\n",
      "\n",
      "stderr:\n",
      "\n",
      "\n",
      "ok"
     ]
    }
   ],
   "source": [
    "- shell: protoc object_detection/protos/*.proto --python_out=.\n",
    "  args:\n",
    "    chdir: ~/tensorflow/models/"
   ]
  },
  {
   "cell_type": "markdown",
   "metadata": {},
   "source": [
    "## Add Libraries to PYTHONPATH"
   ]
  },
  {
   "cell_type": "code",
   "execution_count": 3,
   "metadata": {
    "scrolled": true
   },
   "outputs": [
    {
     "name": "stdout",
     "output_type": "stream",
     "text": [
      "Use hosts: tf\tUse gather_facts: no\t\n",
      "TASK [192.168.10.238: TASK: lineinfile] \n",
      "\n",
      "\n",
      "ok"
     ]
    }
   ],
   "source": [
    "- lineinfile:\n",
    "    state: present\n",
    "    dest: ~/.zshrc\n",
    "    regexp: 'export PYTHONPATH=\\$PYTHONPATH:\\$HOME/tensorflow/models:\\$HOME/tensorflow/models/slim'\n",
    "    line: 'export PYTHONPATH=$PYTHONPATH:$HOME/tensorflow/models:$HOME/tensorflow/models/slim'"
   ]
  },
  {
   "cell_type": "markdown",
   "metadata": {},
   "source": [
    "## Testing the Installation"
   ]
  },
  {
   "cell_type": "code",
   "execution_count": 4,
   "metadata": {},
   "outputs": [
    {
     "name": "stdout",
     "output_type": "stream",
     "text": [
      "Use hosts: tf\tUse gather_facts: no\t\n",
      "TASK [192.168.10.238: TASK: command] \n",
      "stdout:\n",
      "\n",
      "stderr:\n",
      ".......\n",
      "----------------------------------------------------------------------\n",
      "Ran 7 tests in 0.020s\n",
      "\n",
      "OK\n",
      "\n",
      "ok"
     ]
    }
   ],
   "source": [
    "- shell: |\n",
    "    . ~/.zshrc\n",
    "    python object_detection/builders/model_builder_test.py\n",
    "  args:\n",
    "    chdir: ~/tensorflow/models\n",
    "    executable: /bin/zsh"
   ]
  }
 ],
 "metadata": {
  "kernelspec": {
   "display_name": "Ansible",
   "language": "ansible",
   "name": "ansible"
  },
  "language_info": {
   "codemirror_mode": "yaml",
   "file_extension": ".yml",
   "mimetype": "text/vnd.yaml",
   "name": "ansible"
  },
  "toc": {
   "colors": {
    "hover_highlight": "#DAA520",
    "navigate_num": "#000000",
    "navigate_text": "#333333",
    "running_highlight": "#FF0000",
    "selected_highlight": "#FFD700",
    "sidebar_border": "#EEEEEE",
    "wrapper_background": "#FFFFFF"
   },
   "moveMenuLeft": true,
   "nav_menu": {
    "height": "84px",
    "width": "252px"
   },
   "navigate_menu": true,
   "number_sections": true,
   "sideBar": true,
   "threshold": 4,
   "toc_cell": false,
   "toc_section_display": "block",
   "toc_window_display": true,
   "widenNotebook": false
  }
 },
 "nbformat": 4,
 "nbformat_minor": 2
}
