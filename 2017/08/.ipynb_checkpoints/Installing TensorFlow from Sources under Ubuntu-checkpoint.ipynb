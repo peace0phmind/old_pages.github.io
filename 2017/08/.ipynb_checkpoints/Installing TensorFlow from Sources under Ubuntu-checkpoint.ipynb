{
 "cells": [
  {
   "cell_type": "markdown",
   "metadata": {},
   "source": [
    "## Initialize variables"
   ]
  },
  {
   "cell_type": "code",
   "execution_count": 1,
   "metadata": {},
   "outputs": [
    {
     "name": "stdout",
     "output_type": "stream",
     "text": [
      "Set hosts to: tf\tSet gather_facts to: no\t\n",
      "Use hosts: tf\tUse gather_facts: no\t\n",
      "TASK [192.168.10.238: TASK: set_fact] \n",
      "\n",
      "\n",
      "ok"
     ]
    }
   ],
   "source": [
    "# hosts=tf gather_facts=no\n",
    "- set_fact: \n",
    "    tensorflow_source_path=\"$HOME/tensorflow/tensorflow\"\n",
    "    od_project_prefix=\"$HOME/tensorflow/models\"\n",
    "    https_proxy=\"http://172.23.3.112:3128\""
   ]
  },
  {
   "cell_type": "markdown",
   "metadata": {},
   "source": [
    "## clean tensorflow source path"
   ]
  },
  {
   "cell_type": "code",
   "execution_count": 4,
   "metadata": {},
   "outputs": [
    {
     "name": "stdout",
     "output_type": "stream",
     "text": [
      "Use hosts: tf\tUse gather_facts: no\t\n",
      "TASK [192.168.10.238: TASK: command] \n",
      "stdout:\n",
      "\n",
      "stderr:\n",
      "____Starting clean (this may take a while). Consider using --expunge_async if the clean takes more than several minutes.\n",
      "\n",
      "ok"
     ]
    }
   ],
   "source": [
    "- shell: |\n",
    "    . ~/.zshrc\n",
    "    cd {{tensorflow_source_path}}\n",
    "    bazel clean --expunge\n",
    "  args:\n",
    "    executable: /bin/zsh"
   ]
  },
  {
   "cell_type": "markdown",
   "metadata": {},
   "source": [
    "## configure manual\n",
    "use ./configure to change bazel config"
   ]
  },
  {
   "cell_type": "markdown",
   "metadata": {},
   "source": [
    "## set http_proxy and https_proxy and run bazel build with GPU"
   ]
  },
  {
   "cell_type": "markdown",
   "metadata": {},
   "source": [
    "### with GPU"
   ]
  },
  {
   "cell_type": "code",
   "execution_count": null,
   "metadata": {},
   "outputs": [
    {
     "name": "stdout",
     "output_type": "stream",
     "text": [
      "Use hosts: tf\tUse gather_facts: no\t\n"
     ]
    }
   ],
   "source": [
    "- shell: |\n",
    "    . ~/.zshrc\n",
    "    cd {{tensorflow_source_path}}\n",
    "    export https_proxy={{https_proxy}}\n",
    "    export http_proxy={{https_proxy}}\n",
    "    bazel build --config=opt --config=cuda //tensorflow/tools/pip_package:build_pip_package \n",
    "  args:\n",
    "    executable: /bin/zsh"
   ]
  },
  {
   "cell_type": "markdown",
   "metadata": {},
   "source": [
    "### with GPU and MKL"
   ]
  },
  {
   "cell_type": "code",
   "execution_count": null,
   "metadata": {
    "collapsed": true
   },
   "outputs": [],
   "source": [
    "- shell: |\n",
    "    . ~/.zshrc\n",
    "    cd {{tensorflow_source_path}}\n",
    "    export https_proxy={{https_proxy}}\n",
    "    export http_proxy={{https_proxy}}\n",
    "    bazel build --config=opt --config=mkl --config=cuda //tensorflow/tools/pip_package:build_pip_package \n",
    "  args:\n",
    "    executable: /bin/zsh"
   ]
  },
  {
   "cell_type": "markdown",
   "metadata": {},
   "source": [
    "## package to whl and pip install"
   ]
  },
  {
   "cell_type": "code",
   "execution_count": 2,
   "metadata": {},
   "outputs": [
    {
     "name": "stdout",
     "output_type": "stream",
     "text": [
      "Use hosts: tf\tUse gather_facts: no\t\n",
      "TASK [192.168.10.238: TASK: command] \n",
      "stdout:\n",
      "Thu Aug 17 22:55:28 CST 2017 : === Using tmpdir: /tmp/tmp.3FGTYmBrW5\n",
      "~/tensorflow/tensorflow/bazel-bin/tensorflow/tools/pip_package/build_pip_package.runfiles ~/tensorflow/tensorflow\n",
      "~/tensorflow/tensorflow\n",
      "/tmp/tmp.3FGTYmBrW5 ~/tensorflow/tensorflow\n",
      "Thu Aug 17 22:55:28 CST 2017 : === Building wheel\n",
      "~/tensorflow/tensorflow\n",
      "Thu Aug 17 22:55:41 CST 2017 : === Output wheel file is in: /tmp/tensorflow_pkg\n",
      "Requirement already satisfied: tensorflow==1.3.0 from file:///tmp/tensorflow_pkg/tensorflow-1.3.0-cp36-cp36m-linux_x86_64.whl in /home/mind/anaconda3/lib/python3.6/site-packages\n",
      "Requirement already satisfied: wheel>=0.26 in /home/mind/anaconda3/lib/python3.6/site-packages (from tensorflow==1.3.0)\n",
      "Requirement already satisfied: six>=1.10.0 in /home/mind/anaconda3/lib/python3.6/site-packages (from tensorflow==1.3.0)\n",
      "Requirement already satisfied: numpy>=1.11.0 in /home/mind/anaconda3/lib/python3.6/site-packages (from tensorflow==1.3.0)\n",
      "Requirement already satisfied: protobuf>=3.3.0 in /home/mind/anaconda3/lib/python3.6/site-packages (from tensorflow==1.3.0)\n",
      "Requirement already satisfied: tensorflow-tensorboard<0.2.0,>=0.1.0 in /home/mind/anaconda3/lib/python3.6/site-packages (from tensorflow==1.3.0)\n",
      "Requirement already satisfied: setuptools in /home/mind/anaconda3/lib/python3.6/site-packages/setuptools-27.2.0-py3.6.egg (from protobuf>=3.3.0->tensorflow==1.3.0)\n",
      "Requirement already satisfied: bleach==1.5.0 in /home/mind/anaconda3/lib/python3.6/site-packages (from tensorflow-tensorboard<0.2.0,>=0.1.0->tensorflow==1.3.0)\n",
      "Requirement already satisfied: markdown==2.2.0 in /home/mind/anaconda3/lib/python3.6/site-packages (from tensorflow-tensorboard<0.2.0,>=0.1.0->tensorflow==1.3.0)\n",
      "Requirement already satisfied: werkzeug>=0.11.10 in /home/mind/anaconda3/lib/python3.6/site-packages (from tensorflow-tensorboard<0.2.0,>=0.1.0->tensorflow==1.3.0)\n",
      "Requirement already satisfied: html5lib==0.9999999 in /home/mind/anaconda3/lib/python3.6/site-packages (from tensorflow-tensorboard<0.2.0,>=0.1.0->tensorflow==1.3.0)\n",
      "stderr:\n",
      "warning: no files found matching '*.dll' under directory '*'\n",
      "warning: no files found matching '*.lib' under directory '*'\n",
      "warning: no files found matching '*.h' under directory 'tensorflow/include/tensorflow'\n",
      "warning: no files found matching '*' under directory 'tensorflow/include/Eigen'\n",
      "warning: no files found matching '*' under directory 'tensorflow/include/external'\n",
      "warning: no files found matching '*.h' under directory 'tensorflow/include/google'\n",
      "warning: no files found matching '*' under directory 'tensorflow/include/third_party'\n",
      "warning: no files found matching '*' under directory 'tensorflow/include/unsupported'\n",
      "\n",
      "ok"
     ]
    }
   ],
   "source": [
    "- shell: |\n",
    "    . ~/.zshrc\n",
    "    cd {{tensorflow_source_path}}\n",
    "    rm -rf /tmp/tensorflow_pkg/*\n",
    "    bazel-bin/tensorflow/tools/pip_package/build_pip_package /tmp/tensorflow_pkg\n",
    "    find /tmp/tensorflow_pkg -name \"tensorflow*.whl\" | xargs pip install -I\n",
    "  args:\n",
    "    executable: /bin/zsh"
   ]
  },
  {
   "cell_type": "code",
   "execution_count": null,
   "metadata": {
    "collapsed": true
   },
   "outputs": [],
   "source": []
  }
 ],
 "metadata": {
  "kernelspec": {
   "display_name": "Ansible",
   "language": "ansible",
   "name": "ansible"
  },
  "language_info": {
   "codemirror_mode": "yaml",
   "file_extension": ".yml",
   "mimetype": "text/vnd.yaml",
   "name": "ansible"
  },
  "toc": {
   "colors": {
    "hover_highlight": "#DAA520",
    "navigate_num": "#000000",
    "navigate_text": "#333333",
    "running_highlight": "#FF0000",
    "selected_highlight": "#FFD700",
    "sidebar_border": "#EEEEEE",
    "wrapper_background": "#FFFFFF"
   },
   "moveMenuLeft": true,
   "nav_menu": {
    "height": "30px",
    "width": "252px"
   },
   "navigate_menu": true,
   "number_sections": true,
   "sideBar": true,
   "threshold": 4,
   "toc_cell": false,
   "toc_section_display": "block",
   "toc_window_display": true,
   "widenNotebook": false
  }
 },
 "nbformat": 4,
 "nbformat_minor": 2
}
