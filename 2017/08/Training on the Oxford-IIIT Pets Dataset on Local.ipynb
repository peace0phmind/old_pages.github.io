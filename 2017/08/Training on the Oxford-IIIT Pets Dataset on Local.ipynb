{
 "cells": [
  {
   "cell_type": "markdown",
   "metadata": {},
   "source": [
    "## Initialize global variable"
   ]
  },
  {
   "cell_type": "code",
   "execution_count": 1,
   "metadata": {},
   "outputs": [
    {
     "name": "stdout",
     "output_type": "stream",
     "text": [
      "Set hosts to: tf\tSet gather_facts to: no\t\n",
      "Use hosts: tf\tUse gather_facts: no\t\n",
      "TASK [192.168.10.238: TASK: set_fact] \n",
      "\n",
      "\n",
      "ok"
     ]
    }
   ],
   "source": [
    "# hosts=tf gather_facts=no\n",
    "- set_fact: \n",
    "    pet_resource_path=\"/res/material/robots.ox.ac.uk/pets\"\n",
    "    models_resource_path=\"/res/material/tensorflow/models/object_detection\"\n",
    "    od_pet_project_path=\"$HOME/tftest/od_pet\"\n",
    "    od_project_prefix=\"$HOME/tensorflow/models\""
   ]
  },
  {
   "cell_type": "markdown",
   "metadata": {},
   "source": [
    "## Getting the Oxford-IIIT Pets Dataset"
   ]
  },
  {
   "cell_type": "markdown",
   "metadata": {},
   "source": [
    "### Download images and annotations file from remote and tar files"
   ]
  },
  {
   "cell_type": "code",
   "execution_count": 25,
   "metadata": {},
   "outputs": [
    {
     "name": "stdout",
     "output_type": "stream",
     "text": [
      "Use hosts: tf\tUse gather_facts: no\t\n",
      "TASK [192.168.10.238: TASK: get_url] \n",
      "file already exists\n",
      "\n",
      "TASK [192.168.10.238: TASK: get_url] \n",
      "file already exists\n",
      "\n",
      "TASK [192.168.10.238: TASK: stat] \n",
      "changed: False\n",
      "\n",
      "ok"
     ]
    }
   ],
   "source": [
    "- get_url:\n",
    "    url: http://www.robots.ox.ac.uk/~vgg/data/pets/data/images.tar.gz\n",
    "    dest: '{{ pet_resource_path }}/images.tar.gz'\n",
    "\n",
    "- get_url:\n",
    "    url: http://www.robots.ox.ac.uk/~vgg/data/pets/data/annotations.tar.gz\n",
    "    dest: '{{ pet_resource_path }}/annotations.tar.gz'\n",
    "\n",
    "- stat: path='{{ od_pet_project_path }}/images'\n",
    "  register: pet_images_path_stat\n",
    "\n",
    "- shell: |\n",
    "    . ~/.zshrc\n",
    "    cd {{od_pet_project_path}}\n",
    "    cp {{ pet_resource_path }}/images.tar.gz .\n",
    "    cp {{ pet_resource_path }}/annotations.tar.gz .\n",
    "    tar -xf images.tar.gz\n",
    "    tar -xf annotations.tar.gz\n",
    "    rm images.tar.gz annotations.tar.gz\n",
    "  args:\n",
    "    executable: /bin/zsh\n",
    "  when: pet_images_path_stat.stat.exists == False\n"
   ]
  },
  {
   "cell_type": "markdown",
   "metadata": {},
   "source": [
    "### Run 'create_pet_tf_record' to convert from the raw Oxford-IIIT Pet dataset into TFRecords."
   ]
  },
  {
   "cell_type": "code",
   "execution_count": 26,
   "metadata": {},
   "outputs": [
    {
     "name": "stdout",
     "output_type": "stream",
     "text": [
      "Use hosts: tf\tUse gather_facts: no\t\n",
      "TASK [192.168.10.238: TASK: command] \n",
      "stdout:\n",
      "\n",
      "stderr:\n",
      "/home/mind/tensorflow/models/object_detection/utils/dataset_util.py:75: FutureWarning: The behavior of this method will change in future versions. Use specific 'len(elem)' or 'elem is not None' test instead.\n",
      "  if not xml:\n",
      "WARNING:root:Could not find /home/mind/tftest/od_pet/annotations/xmls/Egyptian_Mau_14.xml, ignoring example.\n",
      "WARNING:root:Could not find /home/mind/tftest/od_pet/annotations/xmls/saint_bernard_15.xml, ignoring example.\n",
      "WARNING:root:Could not find /home/mind/tftest/od_pet/annotations/xmls/Ragdoll_199.xml, ignoring example.\n",
      "WARNING:root:Could not find /home/mind/tftest/od_pet/annotations/xmls/Egyptian_Mau_186.xml, ignoring example.\n",
      "WARNING:root:Could not find /home/mind/tftest/od_pet/annotations/xmls/Bengal_175.xml, ignoring example.\n",
      "WARNING:root:Could not find /home/mind/tftest/od_pet/annotations/xmls/samoyed_10.xml, ignoring example.\n",
      "WARNING:root:Could not find /home/mind/tftest/od_pet/annotations/xmls/Egyptian_Mau_156.xml, ignoring example.\n",
      "WARNING:root:Could not find /home/mind/tftest/od_pet/annotations/xmls/Abyssinian_104.xml, ignoring example.\n",
      "WARNING:root:Could not find /home/mind/tftest/od_pet/annotations/xmls/Bengal_111.xml, ignoring example.\n",
      "\n",
      "ok"
     ]
    }
   ],
   "source": [
    "- shell: |\n",
    "    . ~/.zshrc\n",
    "    python object_detection/create_pet_tf_record.py \\\n",
    "        --label_map_path=object_detection/data/pet_label_map.pbtxt \\\n",
    "        --data_dir={{ od_pet_project_path }} \\\n",
    "        --output_dir={{ od_pet_project_path }}\n",
    "  args:\n",
    "    chdir: '{{ od_project_prefix }}'\n",
    "    executable: /bin/zsh"
   ]
  },
  {
   "cell_type": "markdown",
   "metadata": {},
   "source": [
    "### move pet_train.record and pet_val.record to data"
   ]
  },
  {
   "cell_type": "code",
   "execution_count": 35,
   "metadata": {},
   "outputs": [
    {
     "name": "stdout",
     "output_type": "stream",
     "text": [
      "Use hosts: tf\tUse gather_facts: no\t\n",
      "TASK [192.168.10.238: TASK: command] \n",
      "stdout:\n",
      "\n",
      "stderr:\n",
      "mkdir: cannot create directory ‘data’: File exists\n",
      "zsh:4: no matches found: *.record\n",
      "\n",
      "ok"
     ]
    }
   ],
   "source": [
    "- shell: |\n",
    "    . ~/.zshrc\n",
    "    cd {{ od_pet_project_path }}\n",
    "    mkdir data\n",
    "    mv *.record data\n",
    "    cp {{od_project_prefix}}/object_detection/data/pet_label_map.pbtxt data/pet_label_map.pbtxt\n",
    "  args:\n",
    "    executable: /bin/zsh"
   ]
  },
  {
   "cell_type": "markdown",
   "metadata": {},
   "source": [
    "## Downloading a COCO-pretrainsed Model for Transfer Learning"
   ]
  },
  {
   "cell_type": "code",
   "execution_count": 33,
   "metadata": {},
   "outputs": [
    {
     "name": "stdout",
     "output_type": "stream",
     "text": [
      "Use hosts: tf\tUse gather_facts: no\t\n",
      "TASK [192.168.10.238: TASK: get_url] \n",
      "file already exists\n",
      "\n",
      "TASK [192.168.10.238: TASK: command] \n",
      "stdout:\n",
      "/home/mind/tftest/od_pet/data/model.ckpt.data-00000-of-00001\n",
      "/home/mind/tftest/od_pet/data/model.ckpt.index\n",
      "/home/mind/tftest/od_pet/data/model.ckpt.meta\n",
      "stderr:\n",
      "\n",
      "\n",
      "ok"
     ]
    }
   ],
   "source": [
    "- get_url:\n",
    "    url: http://storage.googleapis.com/download.tensorflow.org/models/object_detection/faster_rcnn_resnet101_coco_11_06_2017.tar.gz\n",
    "    dest: '{{ models_resource_path }}/faster_rcnn_resnet101_coco_11_06_2017.tar.gz'\n",
    "\n",
    "- shell: 'ls {{od_pet_project_path}}/data/model.ckpt.*'\n",
    "  register: pet_model_file_stat\n",
    "  ignore_errors: true\n",
    "\n",
    "- shell: |\n",
    "    . ~/.zshrc\n",
    "    cd {{od_pet_project_path}}\n",
    "    cp {{ models_resource_path }}/faster_rcnn_resnet101_coco_11_06_2017.tar.gz .\n",
    "    tar -xf faster_rcnn_resnet101_coco_11_06_2017.tar.gz\n",
    "    cp faster_rcnn_resnet101_coco_11_06_2017/model.ckpt.* data\n",
    "    rm -rf faster_rcnn_resnet101_coco_11_06_2017\n",
    "    rm faster_rcnn_resnet101_coco_11_06_2017.tar.gz\n",
    "  args:\n",
    "    executable: /bin/zsh\n",
    "  when: '{{ pet_model_file_stat|failed }}'"
   ]
  },
  {
   "cell_type": "markdown",
   "metadata": {},
   "source": [
    "### Configuring the Object Detection Pipline"
   ]
  },
  {
   "cell_type": "code",
   "execution_count": 34,
   "metadata": {},
   "outputs": [
    {
     "name": "stdout",
     "output_type": "stream",
     "text": [
      "Use hosts: tf\tUse gather_facts: no\t\n",
      "TASK [192.168.10.238: TASK: command] \n",
      "stdout:\n",
      "\n",
      "stderr:\n",
      "\n",
      "\n",
      "ok"
     ]
    }
   ],
   "source": [
    "- shell: |\n",
    "    . ~/.zshrc\n",
    "    cp {{od_project_prefix}}/object_detection/samples/configs/faster_rcnn_resnet101_pets.config \\\n",
    "        {{od_pet_project_path}}/data/faster_rcnn_resnet101_pets.config\n",
    "    \n",
    "    sed -i \"s|PATH_TO_BE_CONFIGURED|{{od_pet_project_path}}/data|g\" \\\n",
    "        {{od_pet_project_path}}/data/faster_rcnn_resnet101_pets.config\n",
    "  args:\n",
    "    executable: /bin/zsh"
   ]
  },
  {
   "cell_type": "markdown",
   "metadata": {},
   "source": [
    "## Running the Training Job\n",
    "每10分钟输出一个checkpoint,运行训练后1个小时停止训练"
   ]
  },
  {
   "cell_type": "code",
   "execution_count": 2,
   "metadata": {},
   "outputs": [
    {
     "name": "stdout",
     "output_type": "stream",
     "text": [
      "Use hosts: tf\tUse gather_facts: no\t\n"
     ]
    },
    {
     "name": "stderr",
     "output_type": "stream",
     "text": [
      "TASK [192.168.10.238: TASK: command] \n",
      "{\n",
      "  \"failed\": true,\n",
      "  \"msg\": \"async task did not complete within the requested time\",\n",
      "  \"_ansible_no_log\": false,\n",
      "  \"changed\": false\n",
      "}\n",
      "\n",
      "error: 2"
     ]
    }
   ],
   "source": [
    "- shell: |\n",
    "    . ~/.zshrc\n",
    "    mkdir -p {{od_pet_project_path}}/models/train\n",
    "    python object_detection/train.py \\\n",
    "        --logtostderr \\\n",
    "        --pipeline_config_path={{ od_pet_project_path }}/data/faster_rcnn_resnet101_pets.config \\\n",
    "        --train_dir={{od_pet_project_path}}/models/train\n",
    "        \n",
    "  args:\n",
    "    chdir: '{{ od_project_prefix }}'\n",
    "    executable: /bin/zsh\n",
    "  async: 3800\n",
    "  poll: 60"
   ]
  },
  {
   "cell_type": "markdown",
   "metadata": {},
   "source": [
    "## Running the Evaluation Job"
   ]
  },
  {
   "cell_type": "code",
   "execution_count": 3,
   "metadata": {},
   "outputs": [
    {
     "name": "stdout",
     "output_type": "stream",
     "text": [
      "Use hosts: tf\tUse gather_facts: no\t\n"
     ]
    },
    {
     "name": "stderr",
     "output_type": "stream",
     "text": [
      "TASK [192.168.10.238: TASK: command] \n",
      "{\n",
      "  \"failed\": true,\n",
      "  \"msg\": \"async task did not complete within the requested time\",\n",
      "  \"_ansible_no_log\": false,\n",
      "  \"changed\": false\n",
      "}\n",
      "\n",
      "error: 2"
     ]
    }
   ],
   "source": [
    "- shell: |\n",
    "    . ~/.zshrc\n",
    "    mkdir -p {{od_pet_project_path}}/models/eval\n",
    "    python object_detection/eval.py \\\n",
    "        --logtostderr \\\n",
    "        --pipeline_config_path={{ od_pet_project_path }}/data/faster_rcnn_resnet101_pets.config \\\n",
    "        --checkpoint_dir={{od_pet_project_path}}/models/train \\\n",
    "        --eval_dir={{od_pet_project_path}}/models/eval\n",
    "        \n",
    "  args:\n",
    "    chdir: '{{ od_project_prefix }}'\n",
    "    executable: /bin/zsh\n",
    "  async: 300\n",
    "  poll: 60"
   ]
  },
  {
   "cell_type": "code",
   "execution_count": null,
   "metadata": {
    "collapsed": true
   },
   "outputs": [],
   "source": []
  }
 ],
 "metadata": {
  "kernelspec": {
   "display_name": "Ansible",
   "language": "ansible",
   "name": "ansible"
  },
  "language_info": {
   "codemirror_mode": "yaml",
   "file_extension": ".yml",
   "mimetype": "text/vnd.yaml",
   "name": "ansible"
  },
  "toc": {
   "colors": {
    "hover_highlight": "#DAA520",
    "navigate_num": "#000000",
    "navigate_text": "#333333",
    "running_highlight": "#FF0000",
    "selected_highlight": "#FFD700",
    "sidebar_border": "#EEEEEE",
    "wrapper_background": "#FFFFFF"
   },
   "moveMenuLeft": true,
   "nav_menu": {
    "height": "138px",
    "width": "252px"
   },
   "navigate_menu": true,
   "number_sections": true,
   "sideBar": true,
   "threshold": 4,
   "toc_cell": false,
   "toc_position": {
    "height": "639px",
    "left": "0px",
    "right": "1167px",
    "top": "106px",
    "width": "271px"
   },
   "toc_section_display": "block",
   "toc_window_display": true,
   "widenNotebook": false
  }
 },
 "nbformat": 4,
 "nbformat_minor": 2
}
