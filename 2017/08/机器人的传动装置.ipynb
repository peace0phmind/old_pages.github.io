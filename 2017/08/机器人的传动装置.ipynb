{
 "cells": [
  {
   "cell_type": "markdown",
   "metadata": {},
   "source": [
    "* 移动机器人导航中有一种性价比较高且有效的解决方案就是采用差分传动系统"
   ]
  },
  {
   "cell_type": "markdown",
   "metadata": {},
   "source": [
    "## 计算电机转速\n",
    "* 转速 =（60×速度）/（3.14×轮子的直径）\n",
    "\n",
    "  假定要求机器人行走速度为0.25~1m/s;假设轮子的直径为9cm。"
   ]
  },
  {
   "cell_type": "code",
   "execution_count": 10,
   "metadata": {},
   "outputs": [
    {
     "data": {
      "text/plain": [
       "212.31422505307853"
      ]
     },
     "execution_count": 10,
     "metadata": {},
     "output_type": "execute_result"
    }
   ],
   "source": [
    "转速=60*1/(3.14*0.09)\n",
    "转速"
   ]
  },
  {
   "cell_type": "markdown",
   "metadata": {},
   "source": [
    "## 计算电机扭矩\n",
    "* 轮子个数为4个，包括2个脚轮。\n",
    "* 电机个数为两台\n",
    "* 假设摩擦系数为0.6，轮子的半径为4.5cm\n",
    "* 机器人的总重量W=机器人的重量+负载=～100N+～50N=～150N，总质量=15kg。\n",
    "* 重量分布到4个轮子上，可以写成：2×N1+2×N2=W，其中，N1是分布到每个脚轮上的重量，N2是分布到每个电机驱动的轮子上的重量。\n",
    "* 假设机器人处于静止状态。当机器人开始移动时需要的扭矩最大，因为它必须要克服地面摩擦力。\n",
    "* 在机器人移动之前，我们可以认为机器人的扭矩和摩擦力都等于0。在满足这样的设定条件下，我们可以得到最大扭矩：\n",
    "  μ×N×r-T=0，其中μ表示摩擦系数，N表示每个轮子上的平均重量，r表示轮子的半径，T表示扭矩。\n",
    "  N=W/1（假定机器人的重量平均分布在4个轮子上）。\n",
    "\n",
    "  那么，我们可以得到：\n",
    "\n",
    "  0.6×（150/2）×0.045-T=0\n",
    "\n",
    "  所以，T=2.025N·m或20.25kgf·cm（1kgf·m=9.80665N·m）"
   ]
  },
  {
   "cell_type": "markdown",
   "metadata": {},
   "source": [
    "http://learn-robotics.com/"
   ]
  },
  {
   "cell_type": "code",
   "execution_count": null,
   "metadata": {
    "collapsed": true
   },
   "outputs": [],
   "source": []
  }
 ],
 "metadata": {
  "kernelspec": {
   "display_name": "Python 3",
   "language": "python",
   "name": "python3"
  },
  "language_info": {
   "codemirror_mode": {
    "name": "ipython",
    "version": 3
   },
   "file_extension": ".py",
   "mimetype": "text/x-python",
   "name": "python",
   "nbconvert_exporter": "python",
   "pygments_lexer": "ipython3",
   "version": "3.6.1"
  },
  "toc": {
   "colors": {
    "hover_highlight": "#DAA520",
    "navigate_num": "#000000",
    "navigate_text": "#333333",
    "running_highlight": "#FF0000",
    "selected_highlight": "#FFD700",
    "sidebar_border": "#EEEEEE",
    "wrapper_background": "#FFFFFF"
   },
   "moveMenuLeft": true,
   "nav_menu": {
    "height": "48px",
    "width": "252px"
   },
   "navigate_menu": true,
   "number_sections": true,
   "sideBar": true,
   "threshold": 4,
   "toc_cell": false,
   "toc_section_display": "block",
   "toc_window_display": true,
   "widenNotebook": false
  }
 },
 "nbformat": 4,
 "nbformat_minor": 2
}
