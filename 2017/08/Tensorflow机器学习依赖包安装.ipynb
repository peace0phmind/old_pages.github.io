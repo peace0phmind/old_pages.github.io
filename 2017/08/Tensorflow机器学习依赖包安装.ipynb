{
 "cells": [
  {
   "cell_type": "markdown",
   "metadata": {},
   "source": [
    "设置全局主机为tf和local"
   ]
  },
  {
   "cell_type": "code",
   "execution_count": 2,
   "metadata": {},
   "outputs": [
    {
     "name": "stdout",
     "output_type": "stream",
     "text": [
      "Set hosts to: tf, local\tSet gather_facts to: no\t\n",
      "ok"
     ]
    }
   ],
   "source": [
    "# hosts=tf, local gather_facts=no"
   ]
  },
  {
   "cell_type": "markdown",
   "metadata": {},
   "source": [
    "### 音频特征提取的第三方库(librosa)"
   ]
  },
  {
   "cell_type": "code",
   "execution_count": null,
   "metadata": {},
   "outputs": [
    {
     "name": "stdout",
     "output_type": "stream",
     "text": [
      "Use hosts: tf, local\tUse gather_facts: no\t\n",
      "TASK [192.168.10.238: TASK: command] \n",
      "stdout:\n",
      "Requirement already satisfied: librosa in ./anaconda3/lib/python3.6/site-packages\n",
      "Requirement already satisfied: numpy>=1.8.0 in ./anaconda3/lib/python3.6/site-packages (from librosa)\n",
      "Requirement already satisfied: resampy>=0.1.2 in ./anaconda3/lib/python3.6/site-packages (from librosa)\n",
      "Requirement already satisfied: scikit-learn>=0.14.0 in ./anaconda3/lib/python3.6/site-packages (from librosa)\n",
      "Requirement already satisfied: scipy>=0.13.0 in ./anaconda3/lib/python3.6/site-packages (from librosa)\n",
      "Requirement already satisfied: audioread>=2.0.0 in ./anaconda3/lib/python3.6/site-packages (from librosa)\n",
      "Requirement already satisfied: six>=1.3 in ./anaconda3/lib/python3.6/site-packages (from librosa)\n",
      "Requirement already satisfied: joblib>=0.7.0 in ./anaconda3/lib/python3.6/site-packages (from librosa)\n",
      "Requirement already satisfied: decorator>=3.0.0 in ./anaconda3/lib/python3.6/site-packages (from librosa)\n",
      "Requirement already satisfied: Cython>=0.23 in ./anaconda3/lib/python3.6/site-packages (from resampy>=0.1.2->librosa)\n",
      "stderr:\n",
      "\n",
      "\n"
     ]
    }
   ],
   "source": [
    "- shell: |\n",
    "    . ~/.zshrc\n",
    "    yes | pip install librosa\n",
    "  args:\n",
    "    executable: /bin/zsh"
   ]
  },
  {
   "cell_type": "markdown",
   "metadata": {},
   "source": [
    "### keras"
   ]
  },
  {
   "cell_type": "code",
   "execution_count": null,
   "metadata": {},
   "outputs": [
    {
     "name": "stdout",
     "output_type": "stream",
     "text": [
      "Use hosts: tf, local\tUse gather_facts: no\t\n",
      "TASK [192.168.10.238: TASK: command] \n",
      "stdout:\n",
      "Collecting keras\n",
      "  Downloading https://pypi.doubanio.com/packages/ec/45/f69527dca07582dddce1e66921484e50802f4d15095a72c793e15723bf46/Keras-2.0.6.tar.gz (228kB)\n",
      "Collecting theano (from keras)\n",
      "  Downloading https://pypi.doubanio.com/packages/28/03/6af9ff242da966f89de6ab81164db0d1a36fd89379b7370f07043de62f10/Theano-0.9.0.tar.gz (3.1MB)\n",
      "Requirement already satisfied: pyyaml in ./anaconda3/lib/python3.6/site-packages (from keras)\n",
      "Requirement already satisfied: six in ./anaconda3/lib/python3.6/site-packages (from keras)\n",
      "Requirement already satisfied: numpy>=1.9.1 in ./anaconda3/lib/python3.6/site-packages (from theano->keras)\n",
      "Requirement already satisfied: scipy>=0.14 in ./anaconda3/lib/python3.6/site-packages (from theano->keras)\n",
      "Building wheels for collected packages: keras, theano\n",
      "  Running setup.py bdist_wheel for keras: started\n",
      "  Running setup.py bdist_wheel for keras: finished with status 'done'\n",
      "  Stored in directory: /home/mind/.cache/pip/wheels/1b/e2/72/774083c07f73f0ff8b1b3503c250414945d8aa9c4e47193515\n",
      "  Running setup.py bdist_wheel for theano: started\n",
      "  Running setup.py bdist_wheel for theano: finished with status 'done'\n",
      "  Stored in directory: /home/mind/.cache/pip/wheels/e8/e5/ba/78a88631ba44883d71ef52cdd0f08375c0d728c97a974ffdcb\n",
      "Successfully built keras theano\n",
      "Installing collected packages: theano, keras\n",
      "Successfully installed keras-2.0.6 theano-0.9.0\n",
      "stderr:\n",
      "\n",
      "\n"
     ]
    }
   ],
   "source": [
    "- shell: |\n",
    "    . ~/.zshrc\n",
    "    yes | pip install keras\n",
    "  args:\n",
    "    executable: /bin/zsh"
   ]
  }
 ],
 "metadata": {
  "kernelspec": {
   "display_name": "Ansible",
   "language": "ansible",
   "name": "ansible"
  },
  "language_info": {
   "codemirror_mode": "yaml",
   "file_extension": ".yml",
   "mimetype": "text/vnd.yaml",
   "name": "ansible"
  },
  "toc": {
   "colors": {
    "hover_highlight": "#DAA520",
    "navigate_num": "#000000",
    "navigate_text": "#333333",
    "running_highlight": "#FF0000",
    "selected_highlight": "#FFD700",
    "sidebar_border": "#EEEEEE",
    "wrapper_background": "#FFFFFF"
   },
   "moveMenuLeft": true,
   "nav_menu": {
    "height": "48px",
    "width": "252px"
   },
   "navigate_menu": true,
   "number_sections": true,
   "sideBar": true,
   "threshold": 4,
   "toc_cell": false,
   "toc_section_display": "block",
   "toc_window_display": true,
   "widenNotebook": false
  }
 },
 "nbformat": 4,
 "nbformat_minor": 2
}
