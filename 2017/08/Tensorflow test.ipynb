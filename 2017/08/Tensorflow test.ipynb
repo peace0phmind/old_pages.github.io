{
 "cells": [
  {
   "cell_type": "code",
   "execution_count": 8,
   "metadata": {},
   "outputs": [
    {
     "name": "stdout",
     "output_type": "stream",
     "text": [
      "[[ 12.]]\n",
      "foo/v:0\n",
      "foo_7/bar/b:0\n",
      "foo_7/bar/add:0\n"
     ]
    }
   ],
   "source": [
    "import tensorflow as tf\n",
    "m1 = tf.constant([[3.0, 3.]])\n",
    "m2 = tf.constant([[2.],[2.]])\n",
    "t = tf.matmul(m1, m2)\n",
    "\n",
    "with tf.Session() as sess:\n",
    "  print(sess.run(t))\n",
    "\n",
    "with tf.variable_scope('foo') as vsfoo:\n",
    "  with tf.name_scope('bar') as nsbar:\n",
    "    vsfoo.reuse_variables()\n",
    "#     nsbar.reuse_variables()\n",
    "    a = tf.get_variable('v', [1.])\n",
    "    b = tf.Variable(tf.zeros([1.]), name='b')\n",
    "    c = 1 + b\n",
    "    \n",
    "print(a.name)\n",
    "print(b.name)\n",
    "print(c.name)"
   ]
  }
 ],
 "metadata": {
  "kernelspec": {
   "display_name": "Python 3",
   "language": "python",
   "name": "python3"
  },
  "language_info": {
   "codemirror_mode": {
    "name": "ipython",
    "version": 3
   },
   "file_extension": ".py",
   "mimetype": "text/x-python",
   "name": "python",
   "nbconvert_exporter": "python",
   "pygments_lexer": "ipython3",
   "version": "3.6.1"
  },
  "toc": {
   "colors": {
    "hover_highlight": "#DAA520",
    "navigate_num": "#000000",
    "navigate_text": "#333333",
    "running_highlight": "#FF0000",
    "selected_highlight": "#FFD700",
    "sidebar_border": "#EEEEEE",
    "wrapper_background": "#FFFFFF"
   },
   "moveMenuLeft": true,
   "nav_menu": {
    "height": "12px",
    "width": "252px"
   },
   "navigate_menu": true,
   "number_sections": true,
   "sideBar": true,
   "threshold": 4,
   "toc_cell": false,
   "toc_section_display": "block",
   "toc_window_display": false,
   "widenNotebook": false
  }
 },
 "nbformat": 4,
 "nbformat_minor": 2
}
